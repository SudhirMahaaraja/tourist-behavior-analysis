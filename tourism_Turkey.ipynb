{
 "cells": [
  {
   "cell_type": "code",
   "execution_count": 1,
   "id": "170b54f6",
   "metadata": {
    "_cell_guid": "b1076dfc-b9ad-4769-8c92-a6c4dae69d19",
    "_uuid": "8f2839f25d086af736a60e9eeb907d3b93b6e0e5",
    "execution": {
     "iopub.execute_input": "2021-12-26T22:55:20.346386Z",
     "iopub.status.busy": "2021-12-26T22:55:20.344372Z",
     "iopub.status.idle": "2021-12-26T22:55:20.367329Z",
     "shell.execute_reply": "2021-12-26T22:55:20.367895Z",
     "shell.execute_reply.started": "2021-12-26T22:50:16.792735Z"
    },
    "papermill": {
     "duration": 0.114814,
     "end_time": "2021-12-26T22:55:20.368235",
     "exception": false,
     "start_time": "2021-12-26T22:55:20.253421",
     "status": "completed"
    },
    "pycharm": {
     "name": "#%%\n"
    },
    "tags": []
   },
   "outputs": [],
   "source": [
    "import pandas as pd"
   ]
  },
  {
   "cell_type": "markdown",
   "id": "71ba5bfb",
   "metadata": {
    "papermill": {
     "duration": 0.085081,
     "end_time": "2021-12-26T22:55:20.885881",
     "exception": false,
     "start_time": "2021-12-26T22:55:20.800800",
     "status": "completed"
    },
    "pycharm": {
     "name": "#%% md\n"
    },
    "tags": []
   },
   "source": [
    "\n",
    "## Loading and Checking Data"
   ]
  },
  {
   "cell_type": "code",
   "execution_count": 2,
   "id": "5cc48d03",
   "metadata": {
    "execution": {
     "iopub.execute_input": "2021-12-26T22:55:21.058623Z",
     "iopub.status.busy": "2021-12-26T22:55:21.057929Z",
     "iopub.status.idle": "2021-12-26T22:55:21.130016Z",
     "shell.execute_reply": "2021-12-26T22:55:21.129470Z",
     "shell.execute_reply.started": "2021-12-26T22:50:16.835434Z"
    },
    "papermill": {
     "duration": 0.159773,
     "end_time": "2021-12-26T22:55:21.130215",
     "exception": false,
     "start_time": "2021-12-26T22:55:20.970442",
     "status": "completed"
    },
    "pycharm": {
     "name": "#%%\n"
    },
    "tags": []
   },
   "outputs": [
    {
     "data": {
      "text/plain": "         Date     ALMANYA   ARNAVUTLUK   AVUSTURYA    BELCIKA   BOSNAHERSEK  \\\n0  2008-01-01  17723300.0     281100.0   2020700.0  1238900.0      254600.0   \n1  2008-02-01  14366600.0     260400.0   1629500.0  1130900.0      234200.0   \n2  2008-03-01  24979700.0     362600.0   2355800.0  2109700.0      295200.0   \n3  2008-04-01  24253100.0     321900.0   2266800.0  3077200.0      353900.0   \n4  2008-05-01  39972400.0     415600.0   3226500.0  5048300.0      470900.0   \n\n    BULGARISTAN   CEKCUMHURIYETI   DANIMARKA   ESTONYA  ...   TAYLAND  \\\n0     9904800.0         182400.0    561300.0   42600.0  ...   56300.0   \n1     8270700.0         206400.0    546400.0   51500.0  ...   51600.0   \n2    10287700.0         252400.0   1128800.0   69500.0  ...  100300.0   \n3    11062700.0         419800.0   1087800.0  109800.0  ...  108100.0   \n4    14864200.0         928600.0   2600800.0  450800.0  ...  100500.0   \n\n      URDUN    YEMEN     DASYA     ASYATOP   AVUSTRALYA   YENIZELLANDA  \\\n0  278700.0  11600.0  292100.0  13698000.0     482300.0        49700.0   \n1  259400.0  29900.0  319100.0  15394600.0     325400.0        39400.0   \n2  328000.0  28700.0  407300.0  21571100.0     357100.0        59200.0   \n3  345500.0  33100.0  454700.0  22719100.0    1008400.0       224900.0   \n4  433600.0  44400.0  785400.0  25861000.0    1301100.0       260600.0   \n\n    OKYANUSYA   MILLIYESIZ      GTOPLAM  \n0       300.0     105600.0   91953900.0  \n1      1100.0      94700.0   85875100.0  \n2      6900.0     123300.0  122156800.0  \n3      7000.0     130400.0  141149500.0  \n4      1100.0     148100.0  250999700.0  \n\n[5 rows x 103 columns]",
      "text/html": "<div>\n<style scoped>\n    .dataframe tbody tr th:only-of-type {\n        vertical-align: middle;\n    }\n\n    .dataframe tbody tr th {\n        vertical-align: top;\n    }\n\n    .dataframe thead th {\n        text-align: right;\n    }\n</style>\n<table border=\"1\" class=\"dataframe\">\n  <thead>\n    <tr style=\"text-align: right;\">\n      <th></th>\n      <th>Date</th>\n      <th>ALMANYA</th>\n      <th>ARNAVUTLUK</th>\n      <th>AVUSTURYA</th>\n      <th>BELCIKA</th>\n      <th>BOSNAHERSEK</th>\n      <th>BULGARISTAN</th>\n      <th>CEKCUMHURIYETI</th>\n      <th>DANIMARKA</th>\n      <th>ESTONYA</th>\n      <th>...</th>\n      <th>TAYLAND</th>\n      <th>URDUN</th>\n      <th>YEMEN</th>\n      <th>DASYA</th>\n      <th>ASYATOP</th>\n      <th>AVUSTRALYA</th>\n      <th>YENIZELLANDA</th>\n      <th>OKYANUSYA</th>\n      <th>MILLIYESIZ</th>\n      <th>GTOPLAM</th>\n    </tr>\n  </thead>\n  <tbody>\n    <tr>\n      <th>0</th>\n      <td>2008-01-01</td>\n      <td>17723300.0</td>\n      <td>281100.0</td>\n      <td>2020700.0</td>\n      <td>1238900.0</td>\n      <td>254600.0</td>\n      <td>9904800.0</td>\n      <td>182400.0</td>\n      <td>561300.0</td>\n      <td>42600.0</td>\n      <td>...</td>\n      <td>56300.0</td>\n      <td>278700.0</td>\n      <td>11600.0</td>\n      <td>292100.0</td>\n      <td>13698000.0</td>\n      <td>482300.0</td>\n      <td>49700.0</td>\n      <td>300.0</td>\n      <td>105600.0</td>\n      <td>91953900.0</td>\n    </tr>\n    <tr>\n      <th>1</th>\n      <td>2008-02-01</td>\n      <td>14366600.0</td>\n      <td>260400.0</td>\n      <td>1629500.0</td>\n      <td>1130900.0</td>\n      <td>234200.0</td>\n      <td>8270700.0</td>\n      <td>206400.0</td>\n      <td>546400.0</td>\n      <td>51500.0</td>\n      <td>...</td>\n      <td>51600.0</td>\n      <td>259400.0</td>\n      <td>29900.0</td>\n      <td>319100.0</td>\n      <td>15394600.0</td>\n      <td>325400.0</td>\n      <td>39400.0</td>\n      <td>1100.0</td>\n      <td>94700.0</td>\n      <td>85875100.0</td>\n    </tr>\n    <tr>\n      <th>2</th>\n      <td>2008-03-01</td>\n      <td>24979700.0</td>\n      <td>362600.0</td>\n      <td>2355800.0</td>\n      <td>2109700.0</td>\n      <td>295200.0</td>\n      <td>10287700.0</td>\n      <td>252400.0</td>\n      <td>1128800.0</td>\n      <td>69500.0</td>\n      <td>...</td>\n      <td>100300.0</td>\n      <td>328000.0</td>\n      <td>28700.0</td>\n      <td>407300.0</td>\n      <td>21571100.0</td>\n      <td>357100.0</td>\n      <td>59200.0</td>\n      <td>6900.0</td>\n      <td>123300.0</td>\n      <td>122156800.0</td>\n    </tr>\n    <tr>\n      <th>3</th>\n      <td>2008-04-01</td>\n      <td>24253100.0</td>\n      <td>321900.0</td>\n      <td>2266800.0</td>\n      <td>3077200.0</td>\n      <td>353900.0</td>\n      <td>11062700.0</td>\n      <td>419800.0</td>\n      <td>1087800.0</td>\n      <td>109800.0</td>\n      <td>...</td>\n      <td>108100.0</td>\n      <td>345500.0</td>\n      <td>33100.0</td>\n      <td>454700.0</td>\n      <td>22719100.0</td>\n      <td>1008400.0</td>\n      <td>224900.0</td>\n      <td>7000.0</td>\n      <td>130400.0</td>\n      <td>141149500.0</td>\n    </tr>\n    <tr>\n      <th>4</th>\n      <td>2008-05-01</td>\n      <td>39972400.0</td>\n      <td>415600.0</td>\n      <td>3226500.0</td>\n      <td>5048300.0</td>\n      <td>470900.0</td>\n      <td>14864200.0</td>\n      <td>928600.0</td>\n      <td>2600800.0</td>\n      <td>450800.0</td>\n      <td>...</td>\n      <td>100500.0</td>\n      <td>433600.0</td>\n      <td>44400.0</td>\n      <td>785400.0</td>\n      <td>25861000.0</td>\n      <td>1301100.0</td>\n      <td>260600.0</td>\n      <td>1100.0</td>\n      <td>148100.0</td>\n      <td>250999700.0</td>\n    </tr>\n  </tbody>\n</table>\n<p>5 rows × 103 columns</p>\n</div>"
     },
     "execution_count": 2,
     "metadata": {},
     "output_type": "execute_result"
    }
   ],
   "source": [
    "data = pd.read_csv('tourist_numbers_Turkey.csv')\n",
    " data.head()"
   ]
  },
  {
   "cell_type": "code",
   "execution_count": 3,
   "id": "337c14e9",
   "metadata": {
    "execution": {
     "iopub.execute_input": "2021-12-26T22:55:21.307321Z",
     "iopub.status.busy": "2021-12-26T22:55:21.306640Z",
     "iopub.status.idle": "2021-12-26T22:55:21.311831Z",
     "shell.execute_reply": "2021-12-26T22:55:21.312460Z",
     "shell.execute_reply.started": "2021-12-26T22:50:16.908365Z"
    },
    "papermill": {
     "duration": 0.094545,
     "end_time": "2021-12-26T22:55:21.312639",
     "exception": false,
     "start_time": "2021-12-26T22:55:21.218094",
     "status": "completed"
    },
    "pycharm": {
     "name": "#%%\n"
    },
    "tags": []
   },
   "outputs": [
    {
     "data": {
      "text/plain": "(165, 103)"
     },
     "execution_count": 3,
     "metadata": {},
     "output_type": "execute_result"
    }
   ],
   "source": [
    "data.shape"
   ]
  },
  {
   "cell_type": "code",
   "execution_count": 4,
   "outputs": [],
   "source": [
    "data.set_axis([\"DATE\", \"GERMANY\" ,\n",
    " \"ALBANIA\",\n",
    " \"AUSTRIA\",\n",
    " \"BELGIUM\",\n",
    " \"BOSNIA AND HERZEGOVINA\",\n",
    " \"BULGARIA\" ,\n",
    " \"CZECH REPUBLIC\" ,\n",
    " \"DENMARK\" ,\n",
    " \"ESTONIA\" ,\n",
    " \"FINLAND\" ,\n",
    " \"FRANCE\" ,\n",
    " \"CYPRUS\" ,\n",
    " \"CROATIA\" ,\n",
    " \"HOLLAND\" ,\n",
    " \"ENGLAND\" ,\n",
    " \"IRLAND\" ,\n",
    " \"SPAIN\" ,\n",
    " \"SWEDEN\" ,\n",
    " \"SWITZERLAND\" ,\n",
    " \"ITALY\" ,\n",
    " \"ICELAND\" ,\n",
    " \"MONTENEGRO\" ,\n",
    " \"KOSOVO\" ,\n",
    " \"LATVIA\" ,\n",
    " \"LITHUANIA\" ,\n",
    " \"LUXEMBURG\" ,\n",
    " \"HUNGARY\" ,\n",
    " \"MAKEDONIA\" ,\n",
    " \"MALTA\" ,\n",
    " \"NORWAY\" ,\n",
    " \"POLAND\" ,\n",
    " \"PORTUGAL\" ,\n",
    " \"ROMANIA\" ,\n",
    " \"SERBIA\" ,\n",
    " \"SLOVAKIA\" ,\n",
    " \"SLOVENIA\" ,\n",
    " \"GREECE\" ,\n",
    " \"OTHER EUROPE\" ,\n",
    " \"EUROPEAN\" ,\n",
    " \"AZERBAIJAN\"  ,\n",
    " \"BELARUS\" ,\n",
    " \"ARMENIA\" ,\n",
    " \"GEORGIA\" ,\n",
    " \"KAZAKHISTAN\" ,\n",
    " \"Kyrgyzstan\" ,\n",
    " \"MOLDOVACUM\" ,\n",
    " \"OZBEKISTAN\",\n",
    " \"RUSSIA\" ,\n",
    " \"TACHIKISTAN\" ,\n",
    " \"TURKMENISTAN\" ,\n",
    " \"UKRAINE\" ,\n",
    " \"SUM OF CIS\" ,\n",
    " \"USA\" ,\n",
    " \"ARGENTINE\" ,\n",
    " \"BRAZIL\" ,\n",
    " \"CANADA\" ,\n",
    " \"COLOMBIA\" ,\n",
    " \"MEXICO\" ,\n",
    " \"CHILE\" ,\n",
    " \"VENEZUELA\" ,\n",
    " \"OTHER AMERICA\" ,\n",
    " \"AMERICA\" ,\n",
    " \"ALGERIA\" ,\n",
    " \"MOROCCO\" ,\n",
    " \"AFRICA\" ,\n",
    " \"LIBYA\" ,\n",
    " \"EGYPT\" ,\n",
    " \"SUDAN\" ,\n",
    " \"TUNISIA\" ,\n",
    " \"OTHER AFRICA\" ,\n",
    " \"SUM OF AFRICA\" ,\n",
    " \"UAE\" ,\n",
    " \"BAHRAIN\" ,\n",
    " \"BANGLADESH\" ,\n",
    " \"CHINA\" ,\n",
    " \"INDONESIA\" ,\n",
    " \"PHILIPPINES\" ,\n",
    " \"SOUTH KOREA\" ,\n",
    " \"INDIA\" ,\n",
    " \"IRAQ\" ,\n",
    " \"IRAN\" ,\n",
    " \"ISRAEL\" ,\n",
    " \"JAPAN\" ,\n",
    " \"NORTHERN CYPRUS\" ,\n",
    " \"QATAR\" ,\n",
    " \"KUWAIT\" ,\n",
    " \"LEBANON\" ,\n",
    " \"MALAYSIA\" ,\n",
    " \"PAKISTAN\" ,\n",
    " \"SINGAPORE\" ,\n",
    " \"SYRIA\" ,\n",
    " \"SUUDARABIA\" ,\n",
    " \"THAILAND\" ,\n",
    " \"URDUN\" ,\n",
    " \"YEMEN\" ,\n",
    " \"OTHER ASIA\" ,\n",
    " \"ASIA\" ,\n",
    " \"AUSTRALIA\" ,\n",
    " \"NEW ZEALAND\" ,\n",
    " \"OCEANIA\" ,\n",
    " \"WITHOUT NATION\",\n",
    " \"GENERAL TOTAL\"] , axis=1, inplace=True)"
   ],
   "metadata": {
    "collapsed": false,
    "pycharm": {
     "name": "#%%\n"
    }
   },
   "id": "88107c201df75b38"
  },
  {
   "cell_type": "code",
   "execution_count": 5,
   "outputs": [
    {
     "data": {
      "text/plain": "         DATE     GERMANY   ALBANIA    AUSTRIA    BELGIUM  \\\n0  2008-01-01  17723300.0  281100.0  2020700.0  1238900.0   \n1  2008-02-01  14366600.0  260400.0  1629500.0  1130900.0   \n2  2008-03-01  24979700.0  362600.0  2355800.0  2109700.0   \n3  2008-04-01  24253100.0  321900.0  2266800.0  3077200.0   \n4  2008-05-01  39972400.0  415600.0  3226500.0  5048300.0   \n\n   BOSNIA AND HERZEGOVINA    BULGARIA  CZECH REPUBLIC    DENMARK   ESTONIA  \\\n0                254600.0   9904800.0        182400.0   561300.0   42600.0   \n1                234200.0   8270700.0        206400.0   546400.0   51500.0   \n2                295200.0  10287700.0        252400.0  1128800.0   69500.0   \n3                353900.0  11062700.0        419800.0  1087800.0  109800.0   \n4                470900.0  14864200.0        928600.0  2600800.0  450800.0   \n\n   ...  THAILAND     URDUN    YEMEN  OTHER ASIA        ASIA  AUSTRALIA  \\\n0  ...   56300.0  278700.0  11600.0    292100.0  13698000.0   482300.0   \n1  ...   51600.0  259400.0  29900.0    319100.0  15394600.0   325400.0   \n2  ...  100300.0  328000.0  28700.0    407300.0  21571100.0   357100.0   \n3  ...  108100.0  345500.0  33100.0    454700.0  22719100.0  1008400.0   \n4  ...  100500.0  433600.0  44400.0    785400.0  25861000.0  1301100.0   \n\n   NEW ZEALAND  OCEANIA  WITHOUT NATION  GENERAL TOTAL  \n0      49700.0    300.0        105600.0     91953900.0  \n1      39400.0   1100.0         94700.0     85875100.0  \n2      59200.0   6900.0        123300.0    122156800.0  \n3     224900.0   7000.0        130400.0    141149500.0  \n4     260600.0   1100.0        148100.0    250999700.0  \n\n[5 rows x 103 columns]",
      "text/html": "<div>\n<style scoped>\n    .dataframe tbody tr th:only-of-type {\n        vertical-align: middle;\n    }\n\n    .dataframe tbody tr th {\n        vertical-align: top;\n    }\n\n    .dataframe thead th {\n        text-align: right;\n    }\n</style>\n<table border=\"1\" class=\"dataframe\">\n  <thead>\n    <tr style=\"text-align: right;\">\n      <th></th>\n      <th>DATE</th>\n      <th>GERMANY</th>\n      <th>ALBANIA</th>\n      <th>AUSTRIA</th>\n      <th>BELGIUM</th>\n      <th>BOSNIA AND HERZEGOVINA</th>\n      <th>BULGARIA</th>\n      <th>CZECH REPUBLIC</th>\n      <th>DENMARK</th>\n      <th>ESTONIA</th>\n      <th>...</th>\n      <th>THAILAND</th>\n      <th>URDUN</th>\n      <th>YEMEN</th>\n      <th>OTHER ASIA</th>\n      <th>ASIA</th>\n      <th>AUSTRALIA</th>\n      <th>NEW ZEALAND</th>\n      <th>OCEANIA</th>\n      <th>WITHOUT NATION</th>\n      <th>GENERAL TOTAL</th>\n    </tr>\n  </thead>\n  <tbody>\n    <tr>\n      <th>0</th>\n      <td>2008-01-01</td>\n      <td>17723300.0</td>\n      <td>281100.0</td>\n      <td>2020700.0</td>\n      <td>1238900.0</td>\n      <td>254600.0</td>\n      <td>9904800.0</td>\n      <td>182400.0</td>\n      <td>561300.0</td>\n      <td>42600.0</td>\n      <td>...</td>\n      <td>56300.0</td>\n      <td>278700.0</td>\n      <td>11600.0</td>\n      <td>292100.0</td>\n      <td>13698000.0</td>\n      <td>482300.0</td>\n      <td>49700.0</td>\n      <td>300.0</td>\n      <td>105600.0</td>\n      <td>91953900.0</td>\n    </tr>\n    <tr>\n      <th>1</th>\n      <td>2008-02-01</td>\n      <td>14366600.0</td>\n      <td>260400.0</td>\n      <td>1629500.0</td>\n      <td>1130900.0</td>\n      <td>234200.0</td>\n      <td>8270700.0</td>\n      <td>206400.0</td>\n      <td>546400.0</td>\n      <td>51500.0</td>\n      <td>...</td>\n      <td>51600.0</td>\n      <td>259400.0</td>\n      <td>29900.0</td>\n      <td>319100.0</td>\n      <td>15394600.0</td>\n      <td>325400.0</td>\n      <td>39400.0</td>\n      <td>1100.0</td>\n      <td>94700.0</td>\n      <td>85875100.0</td>\n    </tr>\n    <tr>\n      <th>2</th>\n      <td>2008-03-01</td>\n      <td>24979700.0</td>\n      <td>362600.0</td>\n      <td>2355800.0</td>\n      <td>2109700.0</td>\n      <td>295200.0</td>\n      <td>10287700.0</td>\n      <td>252400.0</td>\n      <td>1128800.0</td>\n      <td>69500.0</td>\n      <td>...</td>\n      <td>100300.0</td>\n      <td>328000.0</td>\n      <td>28700.0</td>\n      <td>407300.0</td>\n      <td>21571100.0</td>\n      <td>357100.0</td>\n      <td>59200.0</td>\n      <td>6900.0</td>\n      <td>123300.0</td>\n      <td>122156800.0</td>\n    </tr>\n    <tr>\n      <th>3</th>\n      <td>2008-04-01</td>\n      <td>24253100.0</td>\n      <td>321900.0</td>\n      <td>2266800.0</td>\n      <td>3077200.0</td>\n      <td>353900.0</td>\n      <td>11062700.0</td>\n      <td>419800.0</td>\n      <td>1087800.0</td>\n      <td>109800.0</td>\n      <td>...</td>\n      <td>108100.0</td>\n      <td>345500.0</td>\n      <td>33100.0</td>\n      <td>454700.0</td>\n      <td>22719100.0</td>\n      <td>1008400.0</td>\n      <td>224900.0</td>\n      <td>7000.0</td>\n      <td>130400.0</td>\n      <td>141149500.0</td>\n    </tr>\n    <tr>\n      <th>4</th>\n      <td>2008-05-01</td>\n      <td>39972400.0</td>\n      <td>415600.0</td>\n      <td>3226500.0</td>\n      <td>5048300.0</td>\n      <td>470900.0</td>\n      <td>14864200.0</td>\n      <td>928600.0</td>\n      <td>2600800.0</td>\n      <td>450800.0</td>\n      <td>...</td>\n      <td>100500.0</td>\n      <td>433600.0</td>\n      <td>44400.0</td>\n      <td>785400.0</td>\n      <td>25861000.0</td>\n      <td>1301100.0</td>\n      <td>260600.0</td>\n      <td>1100.0</td>\n      <td>148100.0</td>\n      <td>250999700.0</td>\n    </tr>\n  </tbody>\n</table>\n<p>5 rows × 103 columns</p>\n</div>"
     },
     "execution_count": 5,
     "metadata": {},
     "output_type": "execute_result"
    }
   ],
   "source": [
    "data.head()"
   ],
   "metadata": {
    "collapsed": false,
    "pycharm": {
     "name": "#%%\n"
    }
   },
   "id": "f366bb7398aa1457"
  },
  {
   "cell_type": "markdown",
   "source": [
    "Let's change the numbers float to integer so it's more clear.."
   ],
   "metadata": {
    "collapsed": false,
    "pycharm": {
     "name": "#%% md\n"
    }
   },
   "id": "983167b8c389fef7"
  },
  {
   "cell_type": "code",
   "execution_count": 6,
   "outputs": [
    {
     "data": {
      "text/plain": "DATE               object\nGERMANY           float64\nALBANIA           float64\nAUSTRIA           float64\nBELGIUM           float64\n                   ...   \nAUSTRALIA         float64\nNEW ZEALAND       float64\nOCEANIA           float64\nWITHOUT NATION    float64\nGENERAL TOTAL     float64\nLength: 103, dtype: object"
     },
     "execution_count": 6,
     "metadata": {},
     "output_type": "execute_result"
    }
   ],
   "source": [
    "data.dtypes"
   ],
   "metadata": {
    "collapsed": false,
    "pycharm": {
     "name": "#%%\n"
    }
   },
   "id": "b46a0f7ff1b1d98"
  },
  {
   "cell_type": "code",
   "execution_count": 7,
   "outputs": [
    {
     "data": {
      "text/plain": "0"
     },
     "execution_count": 7,
     "metadata": {},
     "output_type": "execute_result"
    }
   ],
   "source": [
    "data.isnull().sum().sum()"
   ],
   "metadata": {
    "collapsed": false,
    "pycharm": {
     "name": "#%%\n"
    }
   },
   "id": "f2e8ba528edfbee7"
  },
  {
   "cell_type": "code",
   "execution_count": 8,
   "outputs": [],
   "source": [
    "data.iloc[:,1:]=((data.iloc[:,1:])/100).astype('int')"
   ],
   "metadata": {
    "collapsed": false,
    "pycharm": {
     "name": "#%%\n"
    }
   },
   "id": "e187402927a67386"
  },
  {
   "cell_type": "markdown",
   "source": [
    "I eliminated extra zeros from the data by dividing it by 100."
   ],
   "metadata": {
    "collapsed": false,
    "pycharm": {
     "name": "#%% md\n"
    }
   },
   "id": "efd392e567a9c10"
  },
  {
   "cell_type": "code",
   "execution_count": 9,
   "outputs": [
    {
     "data": {
      "text/plain": "         DATE  GERMANY  ALBANIA  AUSTRIA  BELGIUM  BOSNIA AND HERZEGOVINA  \\\n0  2008-01-01   177233     2811    20207    12389                    2546   \n1  2008-02-01   143666     2604    16295    11309                    2342   \n2  2008-03-01   249797     3626    23558    21097                    2952   \n3  2008-04-01   242531     3219    22668    30772                    3539   \n4  2008-05-01   399724     4156    32265    50483                    4709   \n\n   BULGARIA  CZECH REPUBLIC  DENMARK  ESTONIA  ...  THAILAND  URDUN  YEMEN  \\\n0     99048            1824     5613      426  ...       563   2787    116   \n1     82707            2064     5464      515  ...       516   2594    299   \n2    102877            2524    11288      695  ...      1003   3280    287   \n3    110627            4198    10878     1098  ...      1081   3455    331   \n4    148642            9286    26008     4508  ...      1005   4336    444   \n\n   OTHER ASIA    ASIA  AUSTRALIA  NEW ZEALAND  OCEANIA  WITHOUT NATION  \\\n0        2921  136980       4823          497        3            1056   \n1        3191  153946       3254          394       11             947   \n2        4073  215711       3571          592       69            1233   \n3        4547  227191      10084         2249       70            1304   \n4        7854  258610      13011         2606       11            1481   \n\n   GENERAL TOTAL  \n0         919539  \n1         858751  \n2        1221568  \n3        1411495  \n4        2509997  \n\n[5 rows x 103 columns]",
      "text/html": "<div>\n<style scoped>\n    .dataframe tbody tr th:only-of-type {\n        vertical-align: middle;\n    }\n\n    .dataframe tbody tr th {\n        vertical-align: top;\n    }\n\n    .dataframe thead th {\n        text-align: right;\n    }\n</style>\n<table border=\"1\" class=\"dataframe\">\n  <thead>\n    <tr style=\"text-align: right;\">\n      <th></th>\n      <th>DATE</th>\n      <th>GERMANY</th>\n      <th>ALBANIA</th>\n      <th>AUSTRIA</th>\n      <th>BELGIUM</th>\n      <th>BOSNIA AND HERZEGOVINA</th>\n      <th>BULGARIA</th>\n      <th>CZECH REPUBLIC</th>\n      <th>DENMARK</th>\n      <th>ESTONIA</th>\n      <th>...</th>\n      <th>THAILAND</th>\n      <th>URDUN</th>\n      <th>YEMEN</th>\n      <th>OTHER ASIA</th>\n      <th>ASIA</th>\n      <th>AUSTRALIA</th>\n      <th>NEW ZEALAND</th>\n      <th>OCEANIA</th>\n      <th>WITHOUT NATION</th>\n      <th>GENERAL TOTAL</th>\n    </tr>\n  </thead>\n  <tbody>\n    <tr>\n      <th>0</th>\n      <td>2008-01-01</td>\n      <td>177233</td>\n      <td>2811</td>\n      <td>20207</td>\n      <td>12389</td>\n      <td>2546</td>\n      <td>99048</td>\n      <td>1824</td>\n      <td>5613</td>\n      <td>426</td>\n      <td>...</td>\n      <td>563</td>\n      <td>2787</td>\n      <td>116</td>\n      <td>2921</td>\n      <td>136980</td>\n      <td>4823</td>\n      <td>497</td>\n      <td>3</td>\n      <td>1056</td>\n      <td>919539</td>\n    </tr>\n    <tr>\n      <th>1</th>\n      <td>2008-02-01</td>\n      <td>143666</td>\n      <td>2604</td>\n      <td>16295</td>\n      <td>11309</td>\n      <td>2342</td>\n      <td>82707</td>\n      <td>2064</td>\n      <td>5464</td>\n      <td>515</td>\n      <td>...</td>\n      <td>516</td>\n      <td>2594</td>\n      <td>299</td>\n      <td>3191</td>\n      <td>153946</td>\n      <td>3254</td>\n      <td>394</td>\n      <td>11</td>\n      <td>947</td>\n      <td>858751</td>\n    </tr>\n    <tr>\n      <th>2</th>\n      <td>2008-03-01</td>\n      <td>249797</td>\n      <td>3626</td>\n      <td>23558</td>\n      <td>21097</td>\n      <td>2952</td>\n      <td>102877</td>\n      <td>2524</td>\n      <td>11288</td>\n      <td>695</td>\n      <td>...</td>\n      <td>1003</td>\n      <td>3280</td>\n      <td>287</td>\n      <td>4073</td>\n      <td>215711</td>\n      <td>3571</td>\n      <td>592</td>\n      <td>69</td>\n      <td>1233</td>\n      <td>1221568</td>\n    </tr>\n    <tr>\n      <th>3</th>\n      <td>2008-04-01</td>\n      <td>242531</td>\n      <td>3219</td>\n      <td>22668</td>\n      <td>30772</td>\n      <td>3539</td>\n      <td>110627</td>\n      <td>4198</td>\n      <td>10878</td>\n      <td>1098</td>\n      <td>...</td>\n      <td>1081</td>\n      <td>3455</td>\n      <td>331</td>\n      <td>4547</td>\n      <td>227191</td>\n      <td>10084</td>\n      <td>2249</td>\n      <td>70</td>\n      <td>1304</td>\n      <td>1411495</td>\n    </tr>\n    <tr>\n      <th>4</th>\n      <td>2008-05-01</td>\n      <td>399724</td>\n      <td>4156</td>\n      <td>32265</td>\n      <td>50483</td>\n      <td>4709</td>\n      <td>148642</td>\n      <td>9286</td>\n      <td>26008</td>\n      <td>4508</td>\n      <td>...</td>\n      <td>1005</td>\n      <td>4336</td>\n      <td>444</td>\n      <td>7854</td>\n      <td>258610</td>\n      <td>13011</td>\n      <td>2606</td>\n      <td>11</td>\n      <td>1481</td>\n      <td>2509997</td>\n    </tr>\n  </tbody>\n</table>\n<p>5 rows × 103 columns</p>\n</div>"
     },
     "execution_count": 9,
     "metadata": {},
     "output_type": "execute_result"
    }
   ],
   "source": [
    "data.head()"
   ],
   "metadata": {
    "collapsed": false,
    "pycharm": {
     "name": "#%%\n"
    }
   },
   "id": "1ee554d1cf356841"
  },
  {
   "cell_type": "code",
   "execution_count": 10,
   "outputs": [],
   "source": [
    "data['DATE']= pd.to_datetime(data['DATE'])"
   ],
   "metadata": {
    "collapsed": false,
    "pycharm": {
     "name": "#%%\n"
    }
   },
   "id": "b3c591f830f6c3d9"
  },
  {
   "cell_type": "code",
   "execution_count": 11,
   "outputs": [
    {
     "data": {
      "text/plain": "DATE              datetime64[ns]\nGERMANY                    int32\nALBANIA                    int32\nAUSTRIA                    int32\nBELGIUM                    int32\n                       ...      \nAUSTRALIA                  int32\nNEW ZEALAND                int32\nOCEANIA                    int32\nWITHOUT NATION             int32\nGENERAL TOTAL              int32\nLength: 103, dtype: object"
     },
     "execution_count": 11,
     "metadata": {},
     "output_type": "execute_result"
    }
   ],
   "source": [
    "data.dtypes\n"
   ],
   "metadata": {
    "collapsed": false,
    "pycharm": {
     "name": "#%%\n"
    }
   },
   "id": "7e4eaff0f9562f7f"
  },
  {
   "cell_type": "markdown",
   "source": [
    "We don't have a null value, that's fine. I converted data from float type to integer and needed to convert Date column from object to datetime.\n"
   ],
   "metadata": {
    "collapsed": false,
    "pycharm": {
     "name": "#%% md\n"
    }
   },
   "id": "7c4c706b6c1dcf9f"
  },
  {
   "cell_type": "code",
   "execution_count": 12,
   "outputs": [
    {
     "data": {
      "text/plain": "             GERMANY       ALBANIA        AUSTRIA        BELGIUM  \\\ncount     165.000000    165.000000     165.000000     165.000000   \nmean   359575.284848   6495.339394   34988.242424   43448.145455   \nstd    234781.205792   3809.938949   29297.193098   37210.334934   \nmin      1740.000000    534.000000     115.000000     126.000000   \n25%    148108.000000   3823.000000   15719.000000   13588.000000   \n50%    327728.000000   5233.000000   23558.000000   31813.000000   \n75%    519849.000000   8528.000000   43251.000000   54415.000000   \nmax    945902.000000  20556.000000  145205.000000  158420.000000   \n\n       BOSNIA AND HERZEGOVINA       BULGARIA  CZECH REPUBLIC       DENMARK  \\\ncount              165.000000     165.000000      165.000000    165.000000   \nmean              6686.321212  141276.169697    14797.478788  25773.363636   \nstd               4507.163005   51192.917638    16148.641303  22412.540912   \nmin                477.000000    6562.000000       35.000000     42.000000   \n25%               3810.000000  109059.000000     2863.000000   6760.000000   \n50%               5396.000000  141534.000000     6022.000000  18786.000000   \n75%               8710.000000  165454.000000    25267.000000  39925.000000   \nmax              28385.000000  300444.000000    73396.000000  86367.000000   \n\n            ESTONIA       FINLAND  ...      THAILAND         URDUN  \\\ncount    165.000000    165.000000  ...    165.000000    165.000000   \nmean    3646.769697  11812.569697  ...   1766.012121  15266.436364   \nstd     3133.717526   9548.221027  ...   1722.805685  15796.523585   \nmin        1.000000     19.000000  ...      7.000000     87.000000   \n25%      850.000000   3232.000000  ...    681.000000   5451.000000   \n50%     3078.000000  10348.000000  ...   1182.000000   9542.000000   \n75%     5711.000000  18268.000000  ...   2333.000000  18269.000000   \nmax    15874.000000  38899.000000  ...  10197.000000  92655.000000   \n\n             YEMEN    OTHER ASIA          ASIA     AUSTRALIA  NEW ZEALAND  \\\ncount   165.000000    165.000000  1.650000e+02    165.000000   165.000000   \nmean   1509.103030  13540.981818  4.080129e+05  10585.824242  1797.121212   \nstd    1088.147546  11135.370610  2.072858e+05   8775.520819  1487.035850   \nmin       8.000000   1613.000000  1.167100e+04     43.000000     4.000000   \n25%     595.000000   6094.000000  2.684090e+05   3571.000000   579.000000   \n50%    1265.000000   9390.000000  3.769000e+05   7551.000000  1196.000000   \n75%    2298.000000  15498.000000  4.987400e+05  16813.000000  2997.000000   \nmax    5702.000000  61208.000000  1.328552e+06  40600.000000  5582.000000   \n\n           OCEANIA  WITHOUT NATION  GENERAL TOTAL  \ncount   165.000000      165.000000   1.650000e+02  \nmean     70.696970     3716.103030   2.549121e+06  \nstd     280.502194     2529.696069   1.459476e+06  \nmin       1.000000       70.000000   5.063000e+04  \n25%      14.000000     1936.000000   1.333541e+06  \n50%      26.000000     2951.000000   2.096105e+06  \n75%      49.000000     4578.000000   3.642977e+06  \nmax    2820.000000    14703.000000   7.018257e+06  \n\n[8 rows x 102 columns]",
      "text/html": "<div>\n<style scoped>\n    .dataframe tbody tr th:only-of-type {\n        vertical-align: middle;\n    }\n\n    .dataframe tbody tr th {\n        vertical-align: top;\n    }\n\n    .dataframe thead th {\n        text-align: right;\n    }\n</style>\n<table border=\"1\" class=\"dataframe\">\n  <thead>\n    <tr style=\"text-align: right;\">\n      <th></th>\n      <th>GERMANY</th>\n      <th>ALBANIA</th>\n      <th>AUSTRIA</th>\n      <th>BELGIUM</th>\n      <th>BOSNIA AND HERZEGOVINA</th>\n      <th>BULGARIA</th>\n      <th>CZECH REPUBLIC</th>\n      <th>DENMARK</th>\n      <th>ESTONIA</th>\n      <th>FINLAND</th>\n      <th>...</th>\n      <th>THAILAND</th>\n      <th>URDUN</th>\n      <th>YEMEN</th>\n      <th>OTHER ASIA</th>\n      <th>ASIA</th>\n      <th>AUSTRALIA</th>\n      <th>NEW ZEALAND</th>\n      <th>OCEANIA</th>\n      <th>WITHOUT NATION</th>\n      <th>GENERAL TOTAL</th>\n    </tr>\n  </thead>\n  <tbody>\n    <tr>\n      <th>count</th>\n      <td>165.000000</td>\n      <td>165.000000</td>\n      <td>165.000000</td>\n      <td>165.000000</td>\n      <td>165.000000</td>\n      <td>165.000000</td>\n      <td>165.000000</td>\n      <td>165.000000</td>\n      <td>165.000000</td>\n      <td>165.000000</td>\n      <td>...</td>\n      <td>165.000000</td>\n      <td>165.000000</td>\n      <td>165.000000</td>\n      <td>165.000000</td>\n      <td>1.650000e+02</td>\n      <td>165.000000</td>\n      <td>165.000000</td>\n      <td>165.000000</td>\n      <td>165.000000</td>\n      <td>1.650000e+02</td>\n    </tr>\n    <tr>\n      <th>mean</th>\n      <td>359575.284848</td>\n      <td>6495.339394</td>\n      <td>34988.242424</td>\n      <td>43448.145455</td>\n      <td>6686.321212</td>\n      <td>141276.169697</td>\n      <td>14797.478788</td>\n      <td>25773.363636</td>\n      <td>3646.769697</td>\n      <td>11812.569697</td>\n      <td>...</td>\n      <td>1766.012121</td>\n      <td>15266.436364</td>\n      <td>1509.103030</td>\n      <td>13540.981818</td>\n      <td>4.080129e+05</td>\n      <td>10585.824242</td>\n      <td>1797.121212</td>\n      <td>70.696970</td>\n      <td>3716.103030</td>\n      <td>2.549121e+06</td>\n    </tr>\n    <tr>\n      <th>std</th>\n      <td>234781.205792</td>\n      <td>3809.938949</td>\n      <td>29297.193098</td>\n      <td>37210.334934</td>\n      <td>4507.163005</td>\n      <td>51192.917638</td>\n      <td>16148.641303</td>\n      <td>22412.540912</td>\n      <td>3133.717526</td>\n      <td>9548.221027</td>\n      <td>...</td>\n      <td>1722.805685</td>\n      <td>15796.523585</td>\n      <td>1088.147546</td>\n      <td>11135.370610</td>\n      <td>2.072858e+05</td>\n      <td>8775.520819</td>\n      <td>1487.035850</td>\n      <td>280.502194</td>\n      <td>2529.696069</td>\n      <td>1.459476e+06</td>\n    </tr>\n    <tr>\n      <th>min</th>\n      <td>1740.000000</td>\n      <td>534.000000</td>\n      <td>115.000000</td>\n      <td>126.000000</td>\n      <td>477.000000</td>\n      <td>6562.000000</td>\n      <td>35.000000</td>\n      <td>42.000000</td>\n      <td>1.000000</td>\n      <td>19.000000</td>\n      <td>...</td>\n      <td>7.000000</td>\n      <td>87.000000</td>\n      <td>8.000000</td>\n      <td>1613.000000</td>\n      <td>1.167100e+04</td>\n      <td>43.000000</td>\n      <td>4.000000</td>\n      <td>1.000000</td>\n      <td>70.000000</td>\n      <td>5.063000e+04</td>\n    </tr>\n    <tr>\n      <th>25%</th>\n      <td>148108.000000</td>\n      <td>3823.000000</td>\n      <td>15719.000000</td>\n      <td>13588.000000</td>\n      <td>3810.000000</td>\n      <td>109059.000000</td>\n      <td>2863.000000</td>\n      <td>6760.000000</td>\n      <td>850.000000</td>\n      <td>3232.000000</td>\n      <td>...</td>\n      <td>681.000000</td>\n      <td>5451.000000</td>\n      <td>595.000000</td>\n      <td>6094.000000</td>\n      <td>2.684090e+05</td>\n      <td>3571.000000</td>\n      <td>579.000000</td>\n      <td>14.000000</td>\n      <td>1936.000000</td>\n      <td>1.333541e+06</td>\n    </tr>\n    <tr>\n      <th>50%</th>\n      <td>327728.000000</td>\n      <td>5233.000000</td>\n      <td>23558.000000</td>\n      <td>31813.000000</td>\n      <td>5396.000000</td>\n      <td>141534.000000</td>\n      <td>6022.000000</td>\n      <td>18786.000000</td>\n      <td>3078.000000</td>\n      <td>10348.000000</td>\n      <td>...</td>\n      <td>1182.000000</td>\n      <td>9542.000000</td>\n      <td>1265.000000</td>\n      <td>9390.000000</td>\n      <td>3.769000e+05</td>\n      <td>7551.000000</td>\n      <td>1196.000000</td>\n      <td>26.000000</td>\n      <td>2951.000000</td>\n      <td>2.096105e+06</td>\n    </tr>\n    <tr>\n      <th>75%</th>\n      <td>519849.000000</td>\n      <td>8528.000000</td>\n      <td>43251.000000</td>\n      <td>54415.000000</td>\n      <td>8710.000000</td>\n      <td>165454.000000</td>\n      <td>25267.000000</td>\n      <td>39925.000000</td>\n      <td>5711.000000</td>\n      <td>18268.000000</td>\n      <td>...</td>\n      <td>2333.000000</td>\n      <td>18269.000000</td>\n      <td>2298.000000</td>\n      <td>15498.000000</td>\n      <td>4.987400e+05</td>\n      <td>16813.000000</td>\n      <td>2997.000000</td>\n      <td>49.000000</td>\n      <td>4578.000000</td>\n      <td>3.642977e+06</td>\n    </tr>\n    <tr>\n      <th>max</th>\n      <td>945902.000000</td>\n      <td>20556.000000</td>\n      <td>145205.000000</td>\n      <td>158420.000000</td>\n      <td>28385.000000</td>\n      <td>300444.000000</td>\n      <td>73396.000000</td>\n      <td>86367.000000</td>\n      <td>15874.000000</td>\n      <td>38899.000000</td>\n      <td>...</td>\n      <td>10197.000000</td>\n      <td>92655.000000</td>\n      <td>5702.000000</td>\n      <td>61208.000000</td>\n      <td>1.328552e+06</td>\n      <td>40600.000000</td>\n      <td>5582.000000</td>\n      <td>2820.000000</td>\n      <td>14703.000000</td>\n      <td>7.018257e+06</td>\n    </tr>\n  </tbody>\n</table>\n<p>8 rows × 102 columns</p>\n</div>"
     },
     "execution_count": 12,
     "metadata": {},
     "output_type": "execute_result"
    }
   ],
   "source": [
    "data.describe()"
   ],
   "metadata": {
    "collapsed": false,
    "pycharm": {
     "name": "#%%\n"
    }
   },
   "id": "895dba77925ba2b8"
  },
  {
   "cell_type": "markdown",
   "source": [
    "<a id = '2' > </a>\n",
    "   ## Data Query and Visualization"
   ],
   "metadata": {
    "collapsed": false,
    "pycharm": {
     "name": "#%% md\n"
    }
   },
   "id": "a7cb58c4021cd3e1"
  },
  {
   "cell_type": "code",
   "execution_count": 13,
   "outputs": [],
   "source": [
    "from matplotlib.pyplot import figure\n",
    "import matplotlib.pyplot as plt"
   ],
   "metadata": {
    "collapsed": false,
    "pycharm": {
     "name": "#%%\n"
    }
   },
   "id": "e5b91d944c57c9f0"
  },
  {
   "cell_type": "code",
   "execution_count": 14,
   "outputs": [
    {
     "data": {
      "text/plain": "          DATE  OTHER EUROPE  EUROPEAN  SUM OF CIS  OTHER AMERICA  AMERICA  \\\n0   2008-01-01            91    551693      177593           1590    31621   \n1   2008-02-01            60    470599      188167           1895    26828   \n2   2008-03-01           145    732094      208273           1857    40861   \n3   2008-04-01           133    861799      233578           2235    54635   \n4   2008-05-01           170   1542177      551839           3368   114504   \n..         ...           ...       ...         ...            ...      ...   \n160 2021-05-01            33    296209      287510           1231    21978   \n161 2021-06-01            53    609146      543310           2180    41124   \n162 2021-07-01           248   1261682     1333156           4605    72844   \n163 2021-08-01           446   2315016     1549389           5546    94620   \n164 2021-09-01           181   1486267     1491691           5047    73615   \n\n     OTHER AFRICA  AFRICA  OTHER ASIA    ASIA  \n0            1164     586        2921  136980  \n1            1600     578        3191  153946  \n2            1709    1077        4073  215711  \n3            1826    1267        4547  227191  \n4            2807    2244        7854  258610  \n..            ...     ...         ...     ...  \n160          9344     249        8028  122605  \n161         14568     384       14025  238485  \n162         16811     759       25324  475908  \n163         20257     745       33204  516125  \n164         20876     633       25447  495606  \n\n[165 rows x 10 columns]",
      "text/html": "<div>\n<style scoped>\n    .dataframe tbody tr th:only-of-type {\n        vertical-align: middle;\n    }\n\n    .dataframe tbody tr th {\n        vertical-align: top;\n    }\n\n    .dataframe thead th {\n        text-align: right;\n    }\n</style>\n<table border=\"1\" class=\"dataframe\">\n  <thead>\n    <tr style=\"text-align: right;\">\n      <th></th>\n      <th>DATE</th>\n      <th>OTHER EUROPE</th>\n      <th>EUROPEAN</th>\n      <th>SUM OF CIS</th>\n      <th>OTHER AMERICA</th>\n      <th>AMERICA</th>\n      <th>OTHER AFRICA</th>\n      <th>AFRICA</th>\n      <th>OTHER ASIA</th>\n      <th>ASIA</th>\n    </tr>\n  </thead>\n  <tbody>\n    <tr>\n      <th>0</th>\n      <td>2008-01-01</td>\n      <td>91</td>\n      <td>551693</td>\n      <td>177593</td>\n      <td>1590</td>\n      <td>31621</td>\n      <td>1164</td>\n      <td>586</td>\n      <td>2921</td>\n      <td>136980</td>\n    </tr>\n    <tr>\n      <th>1</th>\n      <td>2008-02-01</td>\n      <td>60</td>\n      <td>470599</td>\n      <td>188167</td>\n      <td>1895</td>\n      <td>26828</td>\n      <td>1600</td>\n      <td>578</td>\n      <td>3191</td>\n      <td>153946</td>\n    </tr>\n    <tr>\n      <th>2</th>\n      <td>2008-03-01</td>\n      <td>145</td>\n      <td>732094</td>\n      <td>208273</td>\n      <td>1857</td>\n      <td>40861</td>\n      <td>1709</td>\n      <td>1077</td>\n      <td>4073</td>\n      <td>215711</td>\n    </tr>\n    <tr>\n      <th>3</th>\n      <td>2008-04-01</td>\n      <td>133</td>\n      <td>861799</td>\n      <td>233578</td>\n      <td>2235</td>\n      <td>54635</td>\n      <td>1826</td>\n      <td>1267</td>\n      <td>4547</td>\n      <td>227191</td>\n    </tr>\n    <tr>\n      <th>4</th>\n      <td>2008-05-01</td>\n      <td>170</td>\n      <td>1542177</td>\n      <td>551839</td>\n      <td>3368</td>\n      <td>114504</td>\n      <td>2807</td>\n      <td>2244</td>\n      <td>7854</td>\n      <td>258610</td>\n    </tr>\n    <tr>\n      <th>...</th>\n      <td>...</td>\n      <td>...</td>\n      <td>...</td>\n      <td>...</td>\n      <td>...</td>\n      <td>...</td>\n      <td>...</td>\n      <td>...</td>\n      <td>...</td>\n      <td>...</td>\n    </tr>\n    <tr>\n      <th>160</th>\n      <td>2021-05-01</td>\n      <td>33</td>\n      <td>296209</td>\n      <td>287510</td>\n      <td>1231</td>\n      <td>21978</td>\n      <td>9344</td>\n      <td>249</td>\n      <td>8028</td>\n      <td>122605</td>\n    </tr>\n    <tr>\n      <th>161</th>\n      <td>2021-06-01</td>\n      <td>53</td>\n      <td>609146</td>\n      <td>543310</td>\n      <td>2180</td>\n      <td>41124</td>\n      <td>14568</td>\n      <td>384</td>\n      <td>14025</td>\n      <td>238485</td>\n    </tr>\n    <tr>\n      <th>162</th>\n      <td>2021-07-01</td>\n      <td>248</td>\n      <td>1261682</td>\n      <td>1333156</td>\n      <td>4605</td>\n      <td>72844</td>\n      <td>16811</td>\n      <td>759</td>\n      <td>25324</td>\n      <td>475908</td>\n    </tr>\n    <tr>\n      <th>163</th>\n      <td>2021-08-01</td>\n      <td>446</td>\n      <td>2315016</td>\n      <td>1549389</td>\n      <td>5546</td>\n      <td>94620</td>\n      <td>20257</td>\n      <td>745</td>\n      <td>33204</td>\n      <td>516125</td>\n    </tr>\n    <tr>\n      <th>164</th>\n      <td>2021-09-01</td>\n      <td>181</td>\n      <td>1486267</td>\n      <td>1491691</td>\n      <td>5047</td>\n      <td>73615</td>\n      <td>20876</td>\n      <td>633</td>\n      <td>25447</td>\n      <td>495606</td>\n    </tr>\n  </tbody>\n</table>\n<p>165 rows × 10 columns</p>\n</div>"
     },
     "execution_count": 14,
     "metadata": {},
     "output_type": "execute_result"
    }
   ],
   "source": [
    "continents = data[['DATE',\n",
    "      'OTHER EUROPE',\n",
    "      'EUROPEAN',\n",
    "      'SUM OF CIS',\n",
    "       'OTHER AMERICA',\n",
    "       'AMERICA',\n",
    "      'OTHER AFRICA',\n",
    "       'AFRICA' ,\n",
    "       'OTHER ASIA' ,\n",
    "       'ASIA',]]\n",
    "continents"
   ],
   "metadata": {
    "collapsed": false,
    "pycharm": {
     "name": "#%%\n"
    }
   },
   "id": "a0af16008fa5c68c"
  },
  {
   "cell_type": "markdown",
   "source": [
    "<a id = \"3\"></a>\n",
    "<font color = \"#800000\">\n",
    "### *Top 3 Continents Total Number Where Tourists Originated*"
   ],
   "metadata": {
    "collapsed": false,
    "pycharm": {
     "name": "#%% md\n"
    }
   },
   "id": "15c3ec5eb636810b"
  },
  {
   "cell_type": "code",
   "execution_count": 15,
   "outputs": [
    {
     "name": "stderr",
     "output_type": "stream",
     "text": [
      "C:\\Users\\srina\\AppData\\Local\\Temp\\ipykernel_13868\\2807066138.py:1: FutureWarning: Dropping of nuisance columns in DataFrame reductions (with 'numeric_only=None') is deprecated; in a future version this will raise TypeError.  Select only valid columns before calling the reduction.\n",
      "  c_final=continents.sum().nlargest(3)\n"
     ]
    }
   ],
   "source": [
    "c_final=continents.sum().nlargest(3)"
   ],
   "metadata": {
    "collapsed": false,
    "pycharm": {
     "name": "#%%\n"
    }
   },
   "id": "bb6b53942e65e70d"
  },
  {
   "cell_type": "code",
   "execution_count": 16,
   "outputs": [
    {
     "data": {
      "text/plain": "Index(['EUROPEAN', 'SUM OF CIS', 'ASIA'], dtype='object')"
     },
     "execution_count": 16,
     "metadata": {},
     "output_type": "execute_result"
    }
   ],
   "source": [
    "c_final.index"
   ],
   "metadata": {
    "collapsed": false,
    "pycharm": {
     "name": "#%%\n"
    }
   },
   "id": "288a59a0a341a167"
  },
  {
   "cell_type": "code",
   "execution_count": 17,
   "outputs": [
    {
     "data": {
      "text/plain": "     EUROPEAN  SUM OF CIS    ASIA\n0      551693      177593  136980\n1      470599      188167  153946\n2      732094      208273  215711\n3      861799      233578  227191\n4     1542177      551839  258610\n..        ...         ...     ...\n160    296209      287510  122605\n161    609146      543310  238485\n162   1261682     1333156  475908\n163   2315016     1549389  516125\n164   1486267     1491691  495606\n\n[165 rows x 3 columns]",
      "text/html": "<div>\n<style scoped>\n    .dataframe tbody tr th:only-of-type {\n        vertical-align: middle;\n    }\n\n    .dataframe tbody tr th {\n        vertical-align: top;\n    }\n\n    .dataframe thead th {\n        text-align: right;\n    }\n</style>\n<table border=\"1\" class=\"dataframe\">\n  <thead>\n    <tr style=\"text-align: right;\">\n      <th></th>\n      <th>EUROPEAN</th>\n      <th>SUM OF CIS</th>\n      <th>ASIA</th>\n    </tr>\n  </thead>\n  <tbody>\n    <tr>\n      <th>0</th>\n      <td>551693</td>\n      <td>177593</td>\n      <td>136980</td>\n    </tr>\n    <tr>\n      <th>1</th>\n      <td>470599</td>\n      <td>188167</td>\n      <td>153946</td>\n    </tr>\n    <tr>\n      <th>2</th>\n      <td>732094</td>\n      <td>208273</td>\n      <td>215711</td>\n    </tr>\n    <tr>\n      <th>3</th>\n      <td>861799</td>\n      <td>233578</td>\n      <td>227191</td>\n    </tr>\n    <tr>\n      <th>4</th>\n      <td>1542177</td>\n      <td>551839</td>\n      <td>258610</td>\n    </tr>\n    <tr>\n      <th>...</th>\n      <td>...</td>\n      <td>...</td>\n      <td>...</td>\n    </tr>\n    <tr>\n      <th>160</th>\n      <td>296209</td>\n      <td>287510</td>\n      <td>122605</td>\n    </tr>\n    <tr>\n      <th>161</th>\n      <td>609146</td>\n      <td>543310</td>\n      <td>238485</td>\n    </tr>\n    <tr>\n      <th>162</th>\n      <td>1261682</td>\n      <td>1333156</td>\n      <td>475908</td>\n    </tr>\n    <tr>\n      <th>163</th>\n      <td>2315016</td>\n      <td>1549389</td>\n      <td>516125</td>\n    </tr>\n    <tr>\n      <th>164</th>\n      <td>1486267</td>\n      <td>1491691</td>\n      <td>495606</td>\n    </tr>\n  </tbody>\n</table>\n<p>165 rows × 3 columns</p>\n</div>"
     },
     "execution_count": 17,
     "metadata": {},
     "output_type": "execute_result"
    }
   ],
   "source": [
    "cvalues = continents[c_final.index]\n",
    "cvalues"
   ],
   "metadata": {
    "collapsed": false,
    "pycharm": {
     "name": "#%%\n"
    }
   },
   "id": "644519a5d80e1442"
  },
  {
   "cell_type": "code",
   "execution_count": 18,
   "outputs": [
    {
     "data": {
      "text/plain": "   EUROPEAN  SUM OF CIS    ASIA\n0    551693      177593  136980\n1    470599      188167  153946\n2    732094      208273  215711\n3    861799      233578  227191\n4   1542177      551839  258610",
      "text/html": "<div>\n<style scoped>\n    .dataframe tbody tr th:only-of-type {\n        vertical-align: middle;\n    }\n\n    .dataframe tbody tr th {\n        vertical-align: top;\n    }\n\n    .dataframe thead th {\n        text-align: right;\n    }\n</style>\n<table border=\"1\" class=\"dataframe\">\n  <thead>\n    <tr style=\"text-align: right;\">\n      <th></th>\n      <th>EUROPEAN</th>\n      <th>SUM OF CIS</th>\n      <th>ASIA</th>\n    </tr>\n  </thead>\n  <tbody>\n    <tr>\n      <th>0</th>\n      <td>551693</td>\n      <td>177593</td>\n      <td>136980</td>\n    </tr>\n    <tr>\n      <th>1</th>\n      <td>470599</td>\n      <td>188167</td>\n      <td>153946</td>\n    </tr>\n    <tr>\n      <th>2</th>\n      <td>732094</td>\n      <td>208273</td>\n      <td>215711</td>\n    </tr>\n    <tr>\n      <th>3</th>\n      <td>861799</td>\n      <td>233578</td>\n      <td>227191</td>\n    </tr>\n    <tr>\n      <th>4</th>\n      <td>1542177</td>\n      <td>551839</td>\n      <td>258610</td>\n    </tr>\n  </tbody>\n</table>\n</div>"
     },
     "execution_count": 18,
     "metadata": {},
     "output_type": "execute_result"
    }
   ],
   "source": [
    "cvalues.head()"
   ],
   "metadata": {
    "collapsed": false,
    "pycharm": {
     "name": "#%%\n"
    }
   },
   "id": "a76cd044872c3a1c"
  },
  {
   "cell_type": "code",
   "execution_count": 19,
   "outputs": [
    {
     "data": {
      "text/plain": "DATE             datetime64[ns]\nOTHER EUROPE              int32\nEUROPEAN                  int32\nSUM OF CIS                int32\nOTHER AMERICA             int32\nAMERICA                   int32\nOTHER AFRICA              int32\nAFRICA                    int32\nOTHER ASIA                int32\nASIA                      int32\ndtype: object"
     },
     "execution_count": 19,
     "metadata": {},
     "output_type": "execute_result"
    }
   ],
   "source": [
    "continents.dtypes"
   ],
   "metadata": {
    "collapsed": false,
    "pycharm": {
     "name": "#%%\n"
    }
   },
   "id": "13630dc3d777f5fb"
  },
  {
   "cell_type": "markdown",
   "source": [
    "\n",
    " \n"
   ],
   "metadata": {
    "collapsed": false,
    "pycharm": {
     "name": "#%% md\n"
    }
   },
   "id": "72b934d8223ae82f"
  },
  {
   "cell_type": "markdown",
   "source": [
    "<a id = \"4\"></a>\n",
    "<font color = \"#800000\">\n",
    "### *Comparison of Tourist Countries in Recent Years*"
   ],
   "metadata": {
    "collapsed": false,
    "pycharm": {
     "name": "#%% md\n"
    }
   },
   "id": "8fa3e24f263e69f0"
  },
  {
   "cell_type": "code",
   "execution_count": 20,
   "outputs": [
    {
     "data": {
      "text/plain": "0      2008\n1      2008\n2      2008\n3      2008\n4      2008\n       ... \n160    2021\n161    2021\n162    2021\n163    2021\n164    2021\nName: YEAR, Length: 165, dtype: int64"
     },
     "execution_count": 20,
     "metadata": {},
     "output_type": "execute_result"
    }
   ],
   "source": [
    "data['YEAR'] = pd.DatetimeIndex(data['DATE']).year\n",
    "data['YEAR']"
   ],
   "metadata": {
    "collapsed": false,
    "pycharm": {
     "name": "#%%\n"
    }
   },
   "id": "693a4534cd16cfac"
  },
  {
   "cell_type": "code",
   "execution_count": 21,
   "outputs": [],
   "source": [
    "countries= data.drop(columns = continents.columns, axis=1 )"
   ],
   "metadata": {
    "collapsed": false,
    "pycharm": {
     "name": "#%%\n"
    }
   },
   "id": "97579b29174a6bfe"
  },
  {
   "cell_type": "code",
   "execution_count": 22,
   "outputs": [],
   "source": [
    "countries= countries.drop(columns = ['GENERAL TOTAL'], axis=1 )\n"
   ],
   "metadata": {
    "collapsed": false,
    "pycharm": {
     "name": "#%%\n"
    }
   },
   "id": "2555d230b0160b2b"
  },
  {
   "cell_type": "code",
   "execution_count": 23,
   "outputs": [],
   "source": [
    "countries= countries.drop(columns = ['SUM OF AFRICA'], axis=1 )"
   ],
   "metadata": {
    "collapsed": false,
    "pycharm": {
     "name": "#%%\n"
    }
   },
   "id": "cf8a8f7ece510374"
  },
  {
   "cell_type": "code",
   "execution_count": 24,
   "outputs": [
    {
     "data": {
      "text/plain": "      GERMANY  ALBANIA  AUSTRIA  BELGIUM  BOSNIA AND HERZEGOVINA  BULGARIA  \\\nYEAR                                                                         \n2008  4396948    63945   505764   578680                   60032   1512243   \n2009  4481571    61247   537721   592651                   54137   1623640   \n2010  4370248    50163   497931   544728                   47219   1448923   \n2011  4815156    53286   530800   594679                   54998   1399434   \n2012  5025660    59372   504026   612807                   61644   1498461   \n\n      CZECH REPUBLIC  DENMARK  ESTONIA  FINLAND  ...  SINGAPORE   SYRIA  \\\nYEAR                                             ...                      \n2008          159224   277997    33686   102634  ...      19143  398331   \n2009          166505   296108    36845   138159  ...      20070  501016   \n2010          174508   314369    35136   143328  ...      18921  891192   \n2011          222228   371195    34809   187079  ...      20745  965579   \n2012          223654   391467    35419   195490  ...      22162  333728   \n\n      SUUDARABIA  THAILAND   URDUN  YEMEN  AUSTRALIA  NEW ZEALAND  OCEANIA  \\\nYEAR                                                                         \n2008       55226     10095   73305   4914     126533        23572      325   \n2009       66324      9964   87844   6244     132472        24160      209   \n2010       84915      9259   96406   6199     132174        24643     2812   \n2011      116977     11081   94370   7257     152313        26762      474   \n2012      174786     11705  101553  11233     165579        28271     3022   \n\n      WITHOUT NATION  \nYEAR                  \n2008           23639  \n2009           27553  \n2010           23421  \n2011           26692  \n2012           31330  \n\n[5 rows x 91 columns]",
      "text/html": "<div>\n<style scoped>\n    .dataframe tbody tr th:only-of-type {\n        vertical-align: middle;\n    }\n\n    .dataframe tbody tr th {\n        vertical-align: top;\n    }\n\n    .dataframe thead th {\n        text-align: right;\n    }\n</style>\n<table border=\"1\" class=\"dataframe\">\n  <thead>\n    <tr style=\"text-align: right;\">\n      <th></th>\n      <th>GERMANY</th>\n      <th>ALBANIA</th>\n      <th>AUSTRIA</th>\n      <th>BELGIUM</th>\n      <th>BOSNIA AND HERZEGOVINA</th>\n      <th>BULGARIA</th>\n      <th>CZECH REPUBLIC</th>\n      <th>DENMARK</th>\n      <th>ESTONIA</th>\n      <th>FINLAND</th>\n      <th>...</th>\n      <th>SINGAPORE</th>\n      <th>SYRIA</th>\n      <th>SUUDARABIA</th>\n      <th>THAILAND</th>\n      <th>URDUN</th>\n      <th>YEMEN</th>\n      <th>AUSTRALIA</th>\n      <th>NEW ZEALAND</th>\n      <th>OCEANIA</th>\n      <th>WITHOUT NATION</th>\n    </tr>\n    <tr>\n      <th>YEAR</th>\n      <th></th>\n      <th></th>\n      <th></th>\n      <th></th>\n      <th></th>\n      <th></th>\n      <th></th>\n      <th></th>\n      <th></th>\n      <th></th>\n      <th></th>\n      <th></th>\n      <th></th>\n      <th></th>\n      <th></th>\n      <th></th>\n      <th></th>\n      <th></th>\n      <th></th>\n      <th></th>\n      <th></th>\n    </tr>\n  </thead>\n  <tbody>\n    <tr>\n      <th>2008</th>\n      <td>4396948</td>\n      <td>63945</td>\n      <td>505764</td>\n      <td>578680</td>\n      <td>60032</td>\n      <td>1512243</td>\n      <td>159224</td>\n      <td>277997</td>\n      <td>33686</td>\n      <td>102634</td>\n      <td>...</td>\n      <td>19143</td>\n      <td>398331</td>\n      <td>55226</td>\n      <td>10095</td>\n      <td>73305</td>\n      <td>4914</td>\n      <td>126533</td>\n      <td>23572</td>\n      <td>325</td>\n      <td>23639</td>\n    </tr>\n    <tr>\n      <th>2009</th>\n      <td>4481571</td>\n      <td>61247</td>\n      <td>537721</td>\n      <td>592651</td>\n      <td>54137</td>\n      <td>1623640</td>\n      <td>166505</td>\n      <td>296108</td>\n      <td>36845</td>\n      <td>138159</td>\n      <td>...</td>\n      <td>20070</td>\n      <td>501016</td>\n      <td>66324</td>\n      <td>9964</td>\n      <td>87844</td>\n      <td>6244</td>\n      <td>132472</td>\n      <td>24160</td>\n      <td>209</td>\n      <td>27553</td>\n    </tr>\n    <tr>\n      <th>2010</th>\n      <td>4370248</td>\n      <td>50163</td>\n      <td>497931</td>\n      <td>544728</td>\n      <td>47219</td>\n      <td>1448923</td>\n      <td>174508</td>\n      <td>314369</td>\n      <td>35136</td>\n      <td>143328</td>\n      <td>...</td>\n      <td>18921</td>\n      <td>891192</td>\n      <td>84915</td>\n      <td>9259</td>\n      <td>96406</td>\n      <td>6199</td>\n      <td>132174</td>\n      <td>24643</td>\n      <td>2812</td>\n      <td>23421</td>\n    </tr>\n    <tr>\n      <th>2011</th>\n      <td>4815156</td>\n      <td>53286</td>\n      <td>530800</td>\n      <td>594679</td>\n      <td>54998</td>\n      <td>1399434</td>\n      <td>222228</td>\n      <td>371195</td>\n      <td>34809</td>\n      <td>187079</td>\n      <td>...</td>\n      <td>20745</td>\n      <td>965579</td>\n      <td>116977</td>\n      <td>11081</td>\n      <td>94370</td>\n      <td>7257</td>\n      <td>152313</td>\n      <td>26762</td>\n      <td>474</td>\n      <td>26692</td>\n    </tr>\n    <tr>\n      <th>2012</th>\n      <td>5025660</td>\n      <td>59372</td>\n      <td>504026</td>\n      <td>612807</td>\n      <td>61644</td>\n      <td>1498461</td>\n      <td>223654</td>\n      <td>391467</td>\n      <td>35419</td>\n      <td>195490</td>\n      <td>...</td>\n      <td>22162</td>\n      <td>333728</td>\n      <td>174786</td>\n      <td>11705</td>\n      <td>101553</td>\n      <td>11233</td>\n      <td>165579</td>\n      <td>28271</td>\n      <td>3022</td>\n      <td>31330</td>\n    </tr>\n  </tbody>\n</table>\n<p>5 rows × 91 columns</p>\n</div>"
     },
     "execution_count": 24,
     "metadata": {},
     "output_type": "execute_result"
    }
   ],
   "source": [
    "finalcountry=countries.groupby(['YEAR']).sum()\n",
    "finalcountry.head()\n"
   ],
   "metadata": {
    "collapsed": false,
    "pycharm": {
     "name": "#%%\n"
    }
   },
   "id": "c934d5417e7ff487"
  },
  {
   "cell_type": "code",
   "execution_count": 25,
   "outputs": [
    {
     "data": {
      "text/plain": "GERMANY                   25940270\nALBANIA                     643994\nAUSTRIA                    2173759\nBELGIUM                    2928393\nBOSNIA AND HERZEGOVINA      669114\ndtype: int64"
     },
     "execution_count": 25,
     "metadata": {},
     "output_type": "execute_result"
    }
   ],
   "source": [
    "after=finalcountry[finalcountry.index >= 2015].sum()\n",
    "after.head()"
   ],
   "metadata": {
    "collapsed": false,
    "pycharm": {
     "name": "#%%\n"
    }
   },
   "id": "d40cc5e6a57c4fa0"
  },
  {
   "cell_type": "code",
   "execution_count": 26,
   "outputs": [
    {
     "data": {
      "text/plain": "GERMANY                   33389652\nALBANIA                     427737\nAUSTRIA                    3599301\nBELGIUM                    4240551\nBOSNIA AND HERZEGOVINA      434129\ndtype: int64"
     },
     "execution_count": 26,
     "metadata": {},
     "output_type": "execute_result"
    }
   ],
   "source": [
    "before=finalcountry[finalcountry.index < 2015].sum()\n",
    "before.head()"
   ],
   "metadata": {
    "collapsed": false,
    "pycharm": {
     "name": "#%%\n"
    }
   },
   "id": "2c6c346c33a88363"
  },
  {
   "cell_type": "markdown",
   "source": [
    "Here I have the sum of the tourists who came before and after 2015"
   ],
   "metadata": {
    "collapsed": false,
    "pycharm": {
     "name": "#%% md\n"
    }
   },
   "id": "e95dab76c2249af2"
  },
  {
   "cell_type": "markdown",
   "source": [
    "<a id = \"5\"></a>\n",
    "<font color = \"#800000\">\n",
    "### *Total Number of Tourist by Year*"
   ],
   "metadata": {
    "collapsed": false,
    "pycharm": {
     "name": "#%% md\n"
    }
   },
   "id": "d6a509ccab8486a4"
  },
  {
   "cell_type": "code",
   "execution_count": 27,
   "outputs": [
    {
     "data": {
      "text/plain": "      GERMANY  ALBANIA  AUSTRIA  BELGIUM  BOSNIA AND HERZEGOVINA  BULGARIA  \\\nYEAR                                                                         \n2008  4396948    63945   505764   578680                   60032   1512243   \n2009  4481571    61247   537721   592651                   54137   1623640   \n2010  4370248    50163   497931   544728                   47219   1448923   \n2011  4815156    53286   530800   594679                   54998   1399434   \n2012  5025660    59372   504026   612807                   61644   1498461   \n\n      CZECH REPUBLIC  DENMARK  ESTONIA  FINLAND  ...  SINGAPORE   SYRIA  \\\nYEAR                                             ...                      \n2008          159224   277997    33686   102634  ...      19143  398331   \n2009          166505   296108    36845   138159  ...      20070  501016   \n2010          174508   314369    35136   143328  ...      18921  891192   \n2011          222228   371195    34809   187079  ...      20745  965579   \n2012          223654   391467    35419   195490  ...      22162  333728   \n\n      SUUDARABIA  THAILAND   URDUN  YEMEN  AUSTRALIA  NEW ZEALAND  OCEANIA  \\\nYEAR                                                                         \n2008       55226     10095   73305   4914     126533        23572      325   \n2009       66324      9964   87844   6244     132472        24160      209   \n2010       84915      9259   96406   6199     132174        24643     2812   \n2011      116977     11081   94370   7257     152313        26762      474   \n2012      174786     11705  101553  11233     165579        28271     3022   \n\n      WITHOUT NATION  \nYEAR                  \n2008           23639  \n2009           27553  \n2010           23421  \n2011           26692  \n2012           31330  \n\n[5 rows x 91 columns]",
      "text/html": "<div>\n<style scoped>\n    .dataframe tbody tr th:only-of-type {\n        vertical-align: middle;\n    }\n\n    .dataframe tbody tr th {\n        vertical-align: top;\n    }\n\n    .dataframe thead th {\n        text-align: right;\n    }\n</style>\n<table border=\"1\" class=\"dataframe\">\n  <thead>\n    <tr style=\"text-align: right;\">\n      <th></th>\n      <th>GERMANY</th>\n      <th>ALBANIA</th>\n      <th>AUSTRIA</th>\n      <th>BELGIUM</th>\n      <th>BOSNIA AND HERZEGOVINA</th>\n      <th>BULGARIA</th>\n      <th>CZECH REPUBLIC</th>\n      <th>DENMARK</th>\n      <th>ESTONIA</th>\n      <th>FINLAND</th>\n      <th>...</th>\n      <th>SINGAPORE</th>\n      <th>SYRIA</th>\n      <th>SUUDARABIA</th>\n      <th>THAILAND</th>\n      <th>URDUN</th>\n      <th>YEMEN</th>\n      <th>AUSTRALIA</th>\n      <th>NEW ZEALAND</th>\n      <th>OCEANIA</th>\n      <th>WITHOUT NATION</th>\n    </tr>\n    <tr>\n      <th>YEAR</th>\n      <th></th>\n      <th></th>\n      <th></th>\n      <th></th>\n      <th></th>\n      <th></th>\n      <th></th>\n      <th></th>\n      <th></th>\n      <th></th>\n      <th></th>\n      <th></th>\n      <th></th>\n      <th></th>\n      <th></th>\n      <th></th>\n      <th></th>\n      <th></th>\n      <th></th>\n      <th></th>\n      <th></th>\n    </tr>\n  </thead>\n  <tbody>\n    <tr>\n      <th>2008</th>\n      <td>4396948</td>\n      <td>63945</td>\n      <td>505764</td>\n      <td>578680</td>\n      <td>60032</td>\n      <td>1512243</td>\n      <td>159224</td>\n      <td>277997</td>\n      <td>33686</td>\n      <td>102634</td>\n      <td>...</td>\n      <td>19143</td>\n      <td>398331</td>\n      <td>55226</td>\n      <td>10095</td>\n      <td>73305</td>\n      <td>4914</td>\n      <td>126533</td>\n      <td>23572</td>\n      <td>325</td>\n      <td>23639</td>\n    </tr>\n    <tr>\n      <th>2009</th>\n      <td>4481571</td>\n      <td>61247</td>\n      <td>537721</td>\n      <td>592651</td>\n      <td>54137</td>\n      <td>1623640</td>\n      <td>166505</td>\n      <td>296108</td>\n      <td>36845</td>\n      <td>138159</td>\n      <td>...</td>\n      <td>20070</td>\n      <td>501016</td>\n      <td>66324</td>\n      <td>9964</td>\n      <td>87844</td>\n      <td>6244</td>\n      <td>132472</td>\n      <td>24160</td>\n      <td>209</td>\n      <td>27553</td>\n    </tr>\n    <tr>\n      <th>2010</th>\n      <td>4370248</td>\n      <td>50163</td>\n      <td>497931</td>\n      <td>544728</td>\n      <td>47219</td>\n      <td>1448923</td>\n      <td>174508</td>\n      <td>314369</td>\n      <td>35136</td>\n      <td>143328</td>\n      <td>...</td>\n      <td>18921</td>\n      <td>891192</td>\n      <td>84915</td>\n      <td>9259</td>\n      <td>96406</td>\n      <td>6199</td>\n      <td>132174</td>\n      <td>24643</td>\n      <td>2812</td>\n      <td>23421</td>\n    </tr>\n    <tr>\n      <th>2011</th>\n      <td>4815156</td>\n      <td>53286</td>\n      <td>530800</td>\n      <td>594679</td>\n      <td>54998</td>\n      <td>1399434</td>\n      <td>222228</td>\n      <td>371195</td>\n      <td>34809</td>\n      <td>187079</td>\n      <td>...</td>\n      <td>20745</td>\n      <td>965579</td>\n      <td>116977</td>\n      <td>11081</td>\n      <td>94370</td>\n      <td>7257</td>\n      <td>152313</td>\n      <td>26762</td>\n      <td>474</td>\n      <td>26692</td>\n    </tr>\n    <tr>\n      <th>2012</th>\n      <td>5025660</td>\n      <td>59372</td>\n      <td>504026</td>\n      <td>612807</td>\n      <td>61644</td>\n      <td>1498461</td>\n      <td>223654</td>\n      <td>391467</td>\n      <td>35419</td>\n      <td>195490</td>\n      <td>...</td>\n      <td>22162</td>\n      <td>333728</td>\n      <td>174786</td>\n      <td>11705</td>\n      <td>101553</td>\n      <td>11233</td>\n      <td>165579</td>\n      <td>28271</td>\n      <td>3022</td>\n      <td>31330</td>\n    </tr>\n  </tbody>\n</table>\n<p>5 rows × 91 columns</p>\n</div>"
     },
     "execution_count": 27,
     "metadata": {},
     "output_type": "execute_result"
    }
   ],
   "source": [
    "finalcountry.head()"
   ],
   "metadata": {
    "collapsed": false,
    "pycharm": {
     "name": "#%%\n"
    }
   },
   "id": "f88dfd7ae453c0bd"
  },
  {
   "cell_type": "code",
   "execution_count": 28,
   "outputs": [
    {
     "data": {
      "text/plain": "YEAR\n2008    26259080\n2009    27155489\n2010    28364579\n2011    30955360\n2012    31123155\n2013    33560938\n2014    35525027\n2015    35235402\n2016    24954216\n2017    31678302\n2018    38357588\n2019    43911723\n2020    12695179\n2021    16133087\nName: SUM OF YEAR, dtype: int64"
     },
     "execution_count": 28,
     "metadata": {},
     "output_type": "execute_result"
    }
   ],
   "source": [
    "finalcountry['SUM OF YEAR']= finalcountry.sum(axis=1)\n",
    "finalcountry['SUM OF YEAR']"
   ],
   "metadata": {
    "collapsed": false,
    "pycharm": {
     "name": "#%%\n"
    }
   },
   "id": "2a074a0791017dbd"
  },
  {
   "cell_type": "markdown",
   "source": [
    "We see the 30 countries that sent the most tourists to Turkey in 2008 and 2018.\n",
    "Now let's look at the exchange rate difference between the Turkish Lira and the US Dollar."
   ],
   "metadata": {
    "collapsed": false,
    "pycharm": {
     "name": "#%% md\n"
    }
   },
   "id": "e73983e40f7747c8"
  },
  {
   "cell_type": "code",
   "execution_count": 29,
   "outputs": [
    {
     "data": {
      "text/plain": "0     Jan\n1     Feb\n2     Mar\n3     Apr\n4     May\n5     Jun\n6     Jul\n7     Aug\n8     Sep\n9     Oct\n10    Nov\n11    Dec\nName: MONTH, dtype: object"
     },
     "execution_count": 29,
     "metadata": {},
     "output_type": "execute_result"
    }
   ],
   "source": [
    "data['MONTH'] = pd.DatetimeIndex(data['DATE']).month_name().str[:3]\n",
    "data['MONTH'].head(12)"
   ],
   "metadata": {
    "collapsed": false,
    "pycharm": {
     "name": "#%%\n"
    }
   },
   "id": "4b625fc2e7637dbf"
  },
  {
   "cell_type": "code",
   "execution_count": 30,
   "outputs": [
    {
     "data": {
      "text/plain": "   GERMANY  ALBANIA  AUSTRIA  BELGIUM  BOSNIA AND HERZEGOVINA  BULGARIA  \\\n0   177233     2811    20207    12389                    2546     99048   \n1   143666     2604    16295    11309                    2342     82707   \n2   249797     3626    23558    21097                    2952    102877   \n3   242531     3219    22668    30772                    3539    110627   \n4   399724     4156    32265    50483                    4709    148642   \n\n   CZECH REPUBLIC  DENMARK  ESTONIA  FINLAND  ...  SYRIA  SUUDARABIA  \\\n0            1824     5613      426     1921  ...  24464         721   \n1            2064     5464      515     1723  ...  24949        1499   \n2            2524    11288      695     4142  ...  27203        1016   \n3            4198    10878     1098     7661  ...  27704        2074   \n4            9286    26008     4508    12479  ...  30869        2025   \n\n   THAILAND  URDUN  YEMEN  AUSTRALIA  NEW ZEALAND  OCEANIA  WITHOUT NATION  \\\n0       563   2787    116       4823          497        3            1056   \n1       516   2594    299       3254          394       11             947   \n2      1003   3280    287       3571          592       69            1233   \n3      1081   3455    331      10084         2249       70            1304   \n4      1005   4336    444      13011         2606       11            1481   \n\n   MONTH  \n0    Jan  \n1    Feb  \n2    Mar  \n3    Apr  \n4    May  \n\n[5 rows x 93 columns]",
      "text/html": "<div>\n<style scoped>\n    .dataframe tbody tr th:only-of-type {\n        vertical-align: middle;\n    }\n\n    .dataframe tbody tr th {\n        vertical-align: top;\n    }\n\n    .dataframe thead th {\n        text-align: right;\n    }\n</style>\n<table border=\"1\" class=\"dataframe\">\n  <thead>\n    <tr style=\"text-align: right;\">\n      <th></th>\n      <th>GERMANY</th>\n      <th>ALBANIA</th>\n      <th>AUSTRIA</th>\n      <th>BELGIUM</th>\n      <th>BOSNIA AND HERZEGOVINA</th>\n      <th>BULGARIA</th>\n      <th>CZECH REPUBLIC</th>\n      <th>DENMARK</th>\n      <th>ESTONIA</th>\n      <th>FINLAND</th>\n      <th>...</th>\n      <th>SYRIA</th>\n      <th>SUUDARABIA</th>\n      <th>THAILAND</th>\n      <th>URDUN</th>\n      <th>YEMEN</th>\n      <th>AUSTRALIA</th>\n      <th>NEW ZEALAND</th>\n      <th>OCEANIA</th>\n      <th>WITHOUT NATION</th>\n      <th>MONTH</th>\n    </tr>\n  </thead>\n  <tbody>\n    <tr>\n      <th>0</th>\n      <td>177233</td>\n      <td>2811</td>\n      <td>20207</td>\n      <td>12389</td>\n      <td>2546</td>\n      <td>99048</td>\n      <td>1824</td>\n      <td>5613</td>\n      <td>426</td>\n      <td>1921</td>\n      <td>...</td>\n      <td>24464</td>\n      <td>721</td>\n      <td>563</td>\n      <td>2787</td>\n      <td>116</td>\n      <td>4823</td>\n      <td>497</td>\n      <td>3</td>\n      <td>1056</td>\n      <td>Jan</td>\n    </tr>\n    <tr>\n      <th>1</th>\n      <td>143666</td>\n      <td>2604</td>\n      <td>16295</td>\n      <td>11309</td>\n      <td>2342</td>\n      <td>82707</td>\n      <td>2064</td>\n      <td>5464</td>\n      <td>515</td>\n      <td>1723</td>\n      <td>...</td>\n      <td>24949</td>\n      <td>1499</td>\n      <td>516</td>\n      <td>2594</td>\n      <td>299</td>\n      <td>3254</td>\n      <td>394</td>\n      <td>11</td>\n      <td>947</td>\n      <td>Feb</td>\n    </tr>\n    <tr>\n      <th>2</th>\n      <td>249797</td>\n      <td>3626</td>\n      <td>23558</td>\n      <td>21097</td>\n      <td>2952</td>\n      <td>102877</td>\n      <td>2524</td>\n      <td>11288</td>\n      <td>695</td>\n      <td>4142</td>\n      <td>...</td>\n      <td>27203</td>\n      <td>1016</td>\n      <td>1003</td>\n      <td>3280</td>\n      <td>287</td>\n      <td>3571</td>\n      <td>592</td>\n      <td>69</td>\n      <td>1233</td>\n      <td>Mar</td>\n    </tr>\n    <tr>\n      <th>3</th>\n      <td>242531</td>\n      <td>3219</td>\n      <td>22668</td>\n      <td>30772</td>\n      <td>3539</td>\n      <td>110627</td>\n      <td>4198</td>\n      <td>10878</td>\n      <td>1098</td>\n      <td>7661</td>\n      <td>...</td>\n      <td>27704</td>\n      <td>2074</td>\n      <td>1081</td>\n      <td>3455</td>\n      <td>331</td>\n      <td>10084</td>\n      <td>2249</td>\n      <td>70</td>\n      <td>1304</td>\n      <td>Apr</td>\n    </tr>\n    <tr>\n      <th>4</th>\n      <td>399724</td>\n      <td>4156</td>\n      <td>32265</td>\n      <td>50483</td>\n      <td>4709</td>\n      <td>148642</td>\n      <td>9286</td>\n      <td>26008</td>\n      <td>4508</td>\n      <td>12479</td>\n      <td>...</td>\n      <td>30869</td>\n      <td>2025</td>\n      <td>1005</td>\n      <td>4336</td>\n      <td>444</td>\n      <td>13011</td>\n      <td>2606</td>\n      <td>11</td>\n      <td>1481</td>\n      <td>May</td>\n    </tr>\n  </tbody>\n</table>\n<p>5 rows × 93 columns</p>\n</div>"
     },
     "execution_count": 30,
     "metadata": {},
     "output_type": "execute_result"
    }
   ],
   "source": [
    "monthdata= data.drop(columns = ['GENERAL TOTAL','YEAR','OTHER ASIA','ASIA',\n",
    "                                'OTHER AFRICA','OTHER AMERICA','AMERICA','SUM OF AFRICA',\n",
    "                                'AFRICA', 'OTHER EUROPE','EUROPEAN','DATE'], axis=1 )\n",
    "monthdata.head()"
   ],
   "metadata": {
    "collapsed": false,
    "pycharm": {
     "name": "#%%\n"
    }
   },
   "id": "8f77e57393ba6281"
  },
  {
   "cell_type": "code",
   "execution_count": 31,
   "outputs": [
    {
     "data": {
      "text/plain": "<Figure size 1200x600 with 1 Axes>",
      "image/png": "[encoded data removed]"
     },
     "metadata": {
      "needs_background": "light"
     },
     "output_type": "display_data"
    }
   ],
   "source": [
    "\n",
    "finalmonth=monthdata.groupby(['MONTH']).sum().mean(axis=1)\n",
    "finalmonth=finalmonth.astype('int')\n",
    "new_order = ['Jan', 'Feb', 'Mar', 'Apr', 'May', 'Jun', 'Jul', 'Aug', 'Sep', 'Oct', 'Nov', 'Dec']\n",
    "finalmonth = finalmonth.reindex(new_order, axis=0)\n",
    "figure(figsize=(10, 5), dpi=120)\n",
    "plt.xticks(fontsize=17, rotation=45)\n",
    "plt.yticks(fontsize=17)\n",
    "plt.title('Average Number of Tourists by Month')\n",
    "plt.bar(finalmonth.index,finalmonth, color='blue')\n",
    "plt.show()"
   ],
   "metadata": {
    "collapsed": false,
    "pycharm": {
     "name": "#%%\n"
    }
   },
   "id": "b78772b1a7adf4f8"
  },
  {
   "cell_type": "code",
   "execution_count": 31,
   "outputs": [],
   "source": [],
   "metadata": {
    "collapsed": false,
    "pycharm": {
     "name": "#%%\n"
    }
   },
   "id": "3112c8cd721b09db"
  }
 ],
 "metadata": {
  "kernelspec": {
   "display_name": "Python 3 (ipykernel)",
   "language": "python",
   "name": "python3"
  },
  "language_info": {
   "codemirror_mode": {
    "name": "ipython",
    "version": 3
   },
   "file_extension": ".py",
   "mimetype": "text/x-python",
   "name": "python",
   "nbconvert_exporter": "python",
   "pygments_lexer": "ipython3",
   "version": "3.10.2"
  },
  "papermill": {
   "default_parameters": {},
   "duration": 46.15212,
   "end_time": "2021-12-26T22:55:55.599077",
   "environment_variables": {},
   "exception": null,
   "input_path": "__notebook__.ipynb",
   "output_path": "__notebook__.ipynb",
   "parameters": {},
   "start_time": "2021-12-26T22:55:09.446957",
   "version": "2.3.3"
  }
 },
 "nbformat": 4,
 "nbformat_minor": 5
}
